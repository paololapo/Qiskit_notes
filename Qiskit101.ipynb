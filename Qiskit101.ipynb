{
 "cells": [
  {
   "cell_type": "code",
   "execution_count": 1,
   "metadata": {},
   "outputs": [],
   "source": [
    "#Imports\n",
    "import numpy as np\n",
    "import matplotlib.pyplot as plt\n",
    "plt.style.use('dark_background') # optional\n",
    "\n",
    "from qiskit.visualization import array_to_latex, plot_histogram\n",
    "from qiskit.primitives import Estimator, Sampler\n",
    "from qiskit.quantum_info import Statevector, random_statevector\n",
    "from qiskit.quantum_info.operators import Operator, Pauli\n",
    "from qiskit.circuit import ClassicalRegister, QuantumRegister, Parameter\n",
    "from qiskit import QuantumCircuit\n"
   ]
  },
  {
   "cell_type": "markdown",
   "metadata": {},
   "source": [
    "# 1. Basics"
   ]
  },
  {
   "cell_type": "markdown",
   "metadata": {},
   "source": [
    "## 1.1 Vectors and operators"
   ]
  },
  {
   "cell_type": "markdown",
   "metadata": {},
   "source": [
    "### Vectors and states"
   ]
  },
  {
   "cell_type": "code",
   "execution_count": 2,
   "metadata": {},
   "outputs": [
    {
     "data": {
      "text/latex": [
       "$$\n",
       "\n",
       "\\begin{bmatrix}\n",
       "1  \\\\\n",
       " 0  \\\\\n",
       " \\end{bmatrix}\n",
       "$$"
      ],
      "text/plain": [
       "<IPython.core.display.Latex object>"
      ]
     },
     "execution_count": 2,
     "metadata": {},
     "output_type": "execute_result"
    }
   ],
   "source": [
    "#Define vectors in Dirac's notation\n",
    "ket0 = [[1], [0]]\n",
    "bra0 = [1, 0]\n",
    "\n",
    "#Display vectors in LaTeX style\n",
    "array_to_latex(ket0)"
   ]
  },
  {
   "cell_type": "code",
   "execution_count": 3,
   "metadata": {},
   "outputs": [
    {
     "name": "stdout",
     "output_type": "stream",
     "text": [
      "Statevector([1.+0.j, 0.+0.j],\n",
      "            dims=(2,))\n"
     ]
    },
    {
     "data": {
      "text/latex": [
       "$$ |0\\rangle$$"
      ],
      "text/plain": [
       "<IPython.core.display.Latex object>"
      ]
     },
     "execution_count": 3,
     "metadata": {},
     "output_type": "execute_result"
    }
   ],
   "source": [
    "#Define statevectors by Statevector class\n",
    "sv_ket0 = Statevector(ket0)\n",
    "print(sv_ket0)\n",
    "sv_ket0.draw(\"latex\")"
   ]
  },
  {
   "cell_type": "code",
   "execution_count": 4,
   "metadata": {},
   "outputs": [
    {
     "name": "stdout",
     "output_type": "stream",
     "text": [
      "True\n"
     ]
    },
    {
     "data": {
      "text/latex": [
       "$$\\frac{\\sqrt{2}}{2} |01\\rangle- \\frac{\\sqrt{2}}{2} |10\\rangle$$"
      ],
      "text/plain": [
       "<IPython.core.display.Latex object>"
      ]
     },
     "execution_count": 4,
     "metadata": {},
     "output_type": "execute_result"
    }
   ],
   "source": [
    "#Statevectors defined by coefficients\n",
    "sv_bell = Statevector([0, np.sqrt(2)/2, -np.sqrt(2)/2, 0])\n",
    "\n",
    "#Check if normalised\n",
    "print(sv_bell.is_valid())\n",
    "\n",
    "sv_bell.draw(\"latex\")"
   ]
  },
  {
   "cell_type": "code",
   "execution_count": 5,
   "metadata": {},
   "outputs": [
    {
     "name": "stdout",
     "output_type": "stream",
     "text": [
      "{'01': 0.5000000000000001, '10': 0.5000000000000001}\n"
     ]
    },
    {
     "data": {
      "text/plain": [
       "('10',\n",
       " Statevector([ 0.+0.j,  0.+0.j, -1.+0.j,  0.+0.j],\n",
       "             dims=(2, 2)))"
      ]
     },
     "execution_count": 5,
     "metadata": {},
     "output_type": "execute_result"
    }
   ],
   "source": [
    "#Get info about a statevector\n",
    "print(sv_bell.probabilities_dict())\n",
    "\n",
    "#Projective (probabilistic) measure of a statevector\n",
    "res = sv_bell.measure()\n",
    "res"
   ]
  },
  {
   "cell_type": "markdown",
   "metadata": {},
   "source": [
    "### Operations and operators"
   ]
  },
  {
   "cell_type": "code",
   "execution_count": 6,
   "metadata": {},
   "outputs": [],
   "source": [
    "#Define operators with Operator class\n",
    "op_bra0 = Operator(bra0)\n",
    "op_ket0 = Operator(ket0)\n",
    "\n",
    "sx = Operator([[0, 1], [1, 0]])"
   ]
  },
  {
   "cell_type": "code",
   "execution_count": 7,
   "metadata": {},
   "outputs": [
    {
     "data": {
      "text/latex": [
       "$$\n",
       "\n",
       "\\begin{bmatrix}\n",
       "1 & 0  \\\\\n",
       " 0 & 0  \\\\\n",
       " \\end{bmatrix}\n",
       "$$"
      ],
      "text/plain": [
       "<IPython.core.display.Latex object>"
      ]
     },
     "execution_count": 7,
     "metadata": {},
     "output_type": "execute_result"
    }
   ],
   "source": [
    "#Tensor product\n",
    "t = op_bra0.tensor(op_ket0)\n",
    "array_to_latex(t)"
   ]
  },
  {
   "cell_type": "code",
   "execution_count": 8,
   "metadata": {},
   "outputs": [
    {
     "data": {
      "text/latex": [
       "$$\n",
       "\n",
       "\\begin{bmatrix}\n",
       "1  \\\\\n",
       " \\end{bmatrix}\n",
       "$$"
      ],
      "text/plain": [
       "<IPython.core.display.Latex object>"
      ]
     },
     "execution_count": 8,
     "metadata": {},
     "output_type": "execute_result"
    }
   ],
   "source": [
    "#Inner and outer product\n",
    "braket = np.dot(op_bra0, op_ket0)\n",
    "ketbra = np.outer(op_ket0, op_bra0)\n",
    "\n",
    "array_to_latex(braket)"
   ]
  },
  {
   "cell_type": "code",
   "execution_count": 9,
   "metadata": {},
   "outputs": [
    {
     "data": {
      "text/latex": [
       "$$\n",
       "\n",
       "\\begin{bmatrix}\n",
       "1 & 0 & 0 & 0  \\\\\n",
       " 0 & 0 & 0 & 1  \\\\\n",
       " 0 & 0 & 1 & 0  \\\\\n",
       " 0 & 1 & 0 & 0  \\\\\n",
       " \\end{bmatrix}\n",
       "$$"
      ],
      "text/plain": [
       "<IPython.core.display.Latex object>"
      ]
     },
     "execution_count": 9,
     "metadata": {},
     "output_type": "execute_result"
    }
   ],
   "source": [
    "#Import gates\n",
    "from qiskit.circuit.library import HGate, CXGate\n",
    "cnot = CXGate()\n",
    "\n",
    "array_to_latex(cnot)"
   ]
  },
  {
   "cell_type": "markdown",
   "metadata": {},
   "source": [
    "More standard gates at https://qiskit.org/documentation/apidoc/circuit_library.html"
   ]
  },
  {
   "cell_type": "code",
   "execution_count": 10,
   "metadata": {},
   "outputs": [
    {
     "data": {
      "text/plain": [
       "True"
      ]
     },
     "execution_count": 10,
     "metadata": {},
     "output_type": "execute_result"
    }
   ],
   "source": [
    "#Check if unitary\n",
    "sx.is_unitary()"
   ]
  },
  {
   "cell_type": "code",
   "execution_count": 11,
   "metadata": {},
   "outputs": [
    {
     "data": {
      "text/latex": [
       "$$\n",
       "\n",
       "\\begin{bmatrix}\n",
       "0 & - i  \\\\\n",
       " i & 0  \\\\\n",
       " \\end{bmatrix}\n",
       "$$"
      ],
      "text/plain": [
       "<IPython.core.display.Latex object>"
      ]
     },
     "execution_count": 11,
     "metadata": {},
     "output_type": "execute_result"
    }
   ],
   "source": [
    "#Pauli matrices\n",
    "pauli_x = Pauli(\"X\")\n",
    "pauli_y = Pauli(\"Y\")\n",
    "pauli_z = Pauli(\"Z\")\n",
    "\n",
    "array_to_latex(pauli_y)"
   ]
  },
  {
   "cell_type": "markdown",
   "metadata": {},
   "source": [
    "## 1.2 Quantum Circuits"
   ]
  },
  {
   "cell_type": "markdown",
   "metadata": {},
   "source": [
    "### First circuit: dense coding"
   ]
  },
  {
   "cell_type": "code",
   "execution_count": 12,
   "metadata": {},
   "outputs": [
    {
     "data": {
      "image/png": "[encoded data removed]",
      "text/plain": [
       "<Figure size 621.739x284.278 with 1 Axes>"
      ]
     },
     "execution_count": 12,
     "metadata": {},
     "output_type": "execute_result"
    }
   ],
   "source": [
    "#Definition of a circuit\n",
    "qc = QuantumCircuit(2, 2)   #QuantumCircuit(QuantumRegister(4), ClassicalRegister(3))\n",
    "\n",
    "qc.h(0)                     #Apply an Hadamard gate to qubit 0\n",
    "qc.cx(0, 1)                 #Apply a CNOT (controlled by qubit 0)\n",
    "\n",
    "qc.barrier()                #Graphic divider\n",
    "\n",
    "qc.x(0)                     #Apply a NOT (Alice operations in dense coding)\n",
    "qc.cx(0, 1)\n",
    "qc.h(0)\n",
    "\n",
    "qc.draw(\"mpl\")              #Show the circuit"
   ]
  },
  {
   "cell_type": "code",
   "execution_count": 13,
   "metadata": {},
   "outputs": [
    {
     "data": {
      "text/latex": [
       "$$\n",
       "\n",
       "\\begin{bmatrix}\n",
       "0 & 0 & 1 & 0  \\\\\n",
       " 0 & 0 & 0 & -1  \\\\\n",
       " 1 & 0 & 0 & 0  \\\\\n",
       " 0 & -1 & 0 & 0  \\\\\n",
       " \\end{bmatrix}\n",
       "$$"
      ],
      "text/plain": [
       "<IPython.core.display.Latex object>"
      ]
     },
     "execution_count": 13,
     "metadata": {},
     "output_type": "execute_result"
    }
   ],
   "source": [
    "#Matrix rappresentation of a circuit\n",
    "qc_matrix = Operator(qc)\n",
    "array_to_latex(qc_matrix)"
   ]
  },
  {
   "cell_type": "code",
   "execution_count": 14,
   "metadata": {},
   "outputs": [
    {
     "data": {
      "image/png": "[encoded data removed]",
      "text/plain": [
       "<Figure size 872.572x284.278 with 1 Axes>"
      ]
     },
     "execution_count": 14,
     "metadata": {},
     "output_type": "execute_result"
    }
   ],
   "source": [
    "#Measure in a circuit\n",
    "qc.barrier()                #Edit same circuit as before\n",
    "qc.measure([0, 1], [0, 1])  #Projective measure of [qubits] into classical [bits]\n",
    "\n",
    "qc.draw(\"mpl\")"
   ]
  },
  {
   "cell_type": "code",
   "execution_count": 15,
   "metadata": {},
   "outputs": [
    {
     "data": {
      "text/plain": [
       "{'10': 0.9999999999999996}"
      ]
     },
     "execution_count": 15,
     "metadata": {},
     "output_type": "execute_result"
    }
   ],
   "source": [
    "#Get access to results\n",
    "sampler = Sampler()         #Sampler primitive to measure in the Z-basis\n",
    "\n",
    "mis = sampler.run(qc)       #Save the outcome of the measure shots\n",
    "mis.result().quasi_dists[0].binary_probabilities()"
   ]
  },
  {
   "cell_type": "markdown",
   "metadata": {},
   "source": [
    "### Teleportation"
   ]
  },
  {
   "cell_type": "code",
   "execution_count": 16,
   "metadata": {},
   "outputs": [
    {
     "data": {
      "image/png": "[encoded data removed]",
      "text/plain": [
       "<Figure size 185.453x117.056 with 1 Axes>"
      ]
     },
     "execution_count": 16,
     "metadata": {},
     "output_type": "execute_result"
    }
   ],
   "source": [
    "theta = Parameter(r\"$\\theta$\")      #Define a parameter\n",
    "\n",
    "#Define the control circuit\n",
    "qr = QuantumRegister(1, 'q')        #Define a quantum register named \"q\"\n",
    "qc = QuantumCircuit(qr)\n",
    "\n",
    "qc.ry(theta, 0)                     #Rotate qubit 0 with theta\n",
    "\n",
    "qc.draw('mpl')"
   ]
  },
  {
   "cell_type": "code",
   "execution_count": 17,
   "metadata": {},
   "outputs": [
    {
     "data": {
      "image/png": "[encoded data removed]",
      "text/plain": [
       "<Figure size 1075.45x451.5 with 1 Axes>"
      ]
     },
     "execution_count": 17,
     "metadata": {},
     "output_type": "execute_result"
    }
   ],
   "source": [
    "#Define the teleportation circuit\n",
    "tele_qc = qc.copy()                         #Copy of a circuit\n",
    "bell = QuantumRegister(2, 'Bell')\n",
    "alice = ClassicalRegister(2, 'Alice')       #Define a classical register named \"Alice\"\n",
    "bob = ClassicalRegister(1, 'Bob')\n",
    "tele_qc.add_register(bell, alice, bob)      #Add registers to the circuit\n",
    "\n",
    "#Bell state\n",
    "tele_qc.h(1)\n",
    "tele_qc.cx(1, 2)\n",
    "\n",
    "#Alice's operations\n",
    "tele_qc.cx(0, 1)\n",
    "tele_qc.h(0)\n",
    "\n",
    "#Alice's measurements\n",
    "tele_qc.barrier()\n",
    "tele_qc.measure([qr[0], bell[0]], alice)\n",
    "\n",
    "\n",
    "#If condition: operations based on measure\n",
    "tele_qc.x(2).c_if(alice[1], 1)\n",
    "tele_qc.z(2).c_if(alice[0], 1)\n",
    "\n",
    "#Bob's measurement\n",
    "tele_qc.barrier()\n",
    "tele_qc.measure(bell[1], bob)\n",
    "\n",
    "\n",
    "tele_qc.draw(\"mpl\")"
   ]
  },
  {
   "cell_type": "code",
   "execution_count": 18,
   "metadata": {},
   "outputs": [],
   "source": [
    "#Measure the original state (note that tele_qc was a copy of the circuit)\n",
    "qc.measure_all()            "
   ]
  },
  {
   "cell_type": "code",
   "execution_count": 21,
   "metadata": {},
   "outputs": [
    {
     "name": "stdout",
     "output_type": "stream",
     "text": [
      "Original Dists: {'1': 613, '0': 411}\n",
      "Teleported Dists: {'1 10': 168, '0 01': 96, '1 11': 156, '1 00': 135, '0 10': 116, '0 11': 110, '0 00': 98, '1 01': 145}\n"
     ]
    }
   ],
   "source": [
    "#Confront the results\n",
    "angle = 4*np.pi/7       #Angle theta to get an arbitrary initial state\n",
    "\n",
    "#Access to the simulation backend\n",
    "from qiskit import BasicAer, assemble, transpile\n",
    "backend = BasicAer.get_backend('qasm_simulator')    \n",
    "#Get the results\n",
    "result_original = backend.run(assemble(transpile(qc.bind_parameters({theta: angle}), backend))).result()\n",
    "result_tele = backend.run(assemble(transpile(tele_qc.bind_parameters({theta: angle}), backend))).result()\n",
    "\n",
    "print(f\"Original Dists: {result_original.get_counts()}\")\n",
    "print(f\"Teleported Dists: {result_tele.get_counts()}\")"
   ]
  },
  {
   "cell_type": "code",
   "execution_count": 22,
   "metadata": {},
   "outputs": [
    {
     "name": "stdout",
     "output_type": "stream",
     "text": [
      "Result(backend_name='qasm_simulator', backend_version='2.1.0', qobj_id='5ee3337b-65f9-4536-9853-c3ab364131bc', job_id='ff4ab87d-0b57-4176-ab0c-d68af9ae7565', success=True, results=[ExperimentResult(shots=1024, success=True, meas_level=2, data=ExperimentResultData(counts={'0x1': 604, '0x0': 420}), header=QobjExperimentHeader(qubit_labels=[['q', 0], ['Bell', 0], ['Bell', 1]], n_qubits=3, qreg_sizes=[['q', 1], ['Bell', 2]], clbit_labels=[['Alice', 0], ['Alice', 1], ['Bob', 0]], memory_slots=1, creg_sizes=[['Bob', 1]], name='circuit-124', global_phase=0.0, metadata={}), status=DONE, name='circuit-124', seed_simulator=508935711, time_taken=0.2915515899658203)], date=None, status=COMPLETED, header=QobjHeader(), time_taken=0.2915515899658203)\n"
     ]
    },
    {
     "data": {
      "image/png": "[encoded data removed]",
      "text/plain": [
       "<Figure size 700x500 with 1 Axes>"
      ]
     },
     "execution_count": 22,
     "metadata": {},
     "output_type": "execute_result"
    }
   ],
   "source": [
    "#Marginalization: from [Alice0Alice1Bob] to [Bob]\n",
    "from qiskit.result import marginal_counts\n",
    "tele_counts = marginal_counts(result_tele, [2]) #[2] to sum over [0, 1]\n",
    "print(tele_counts)\n",
    "\n",
    "#Visualize the counts\n",
    "legend = ['Original State', 'Teleported State']\n",
    "plot_histogram([result_original.get_counts(), tele_counts.get_counts()], legend=legend)"
   ]
  },
  {
   "cell_type": "code",
   "execution_count": null,
   "metadata": {},
   "outputs": [],
   "source": []
  }
 ],
 "metadata": {
  "kernelspec": {
   "display_name": "Python 3",
   "language": "python",
   "name": "python3"
  },
  "language_info": {
   "codemirror_mode": {
    "name": "ipython",
    "version": 3
   },
   "file_extension": ".py",
   "mimetype": "text/x-python",
   "name": "python",
   "nbconvert_exporter": "python",
   "pygments_lexer": "ipython3",
   "version": "3.11.1"
  },
  "orig_nbformat": 4
 },
 "nbformat": 4,
 "nbformat_minor": 2
}
